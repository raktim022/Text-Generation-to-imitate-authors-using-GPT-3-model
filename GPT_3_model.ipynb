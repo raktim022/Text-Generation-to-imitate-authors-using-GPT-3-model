{
  "cells": [
    {
      "cell_type": "code",
      "execution_count": 1,
      "metadata": {
        "id": "9HE3Xo2TAtHY",
        "colab": {
          "base_uri": "https://localhost:8080/"
        },
        "outputId": "1874d05f-698e-42da-963b-5800cbd65a7f"
      },
      "outputs": [
        {
          "output_type": "stream",
          "name": "stdout",
          "text": [
            "Looking in indexes: https://pypi.org/simple, https://us-python.pkg.dev/colab-wheels/public/simple/, https://download.pytorch.org/whl/cu113\n",
            "Requirement already satisfied: torch in /usr/local/lib/python3.7/dist-packages (1.11.0+cu113)\n",
            "Requirement already satisfied: torchvision in /usr/local/lib/python3.7/dist-packages (0.12.0+cu113)\n",
            "Requirement already satisfied: torchaudio in /usr/local/lib/python3.7/dist-packages (0.11.0+cu113)\n",
            "Requirement already satisfied: typing-extensions in /usr/local/lib/python3.7/dist-packages (from torch) (4.2.0)\n",
            "Requirement already satisfied: numpy in /usr/local/lib/python3.7/dist-packages (from torchvision) (1.21.6)\n",
            "Requirement already satisfied: pillow!=8.3.*,>=5.3.0 in /usr/local/lib/python3.7/dist-packages (from torchvision) (7.1.2)\n",
            "Requirement already satisfied: requests in /usr/local/lib/python3.7/dist-packages (from torchvision) (2.23.0)\n",
            "Requirement already satisfied: urllib3!=1.25.0,!=1.25.1,<1.26,>=1.21.1 in /usr/local/lib/python3.7/dist-packages (from requests->torchvision) (1.24.3)\n",
            "Requirement already satisfied: chardet<4,>=3.0.2 in /usr/local/lib/python3.7/dist-packages (from requests->torchvision) (3.0.4)\n",
            "Requirement already satisfied: certifi>=2017.4.17 in /usr/local/lib/python3.7/dist-packages (from requests->torchvision) (2022.5.18.1)\n",
            "Requirement already satisfied: idna<3,>=2.5 in /usr/local/lib/python3.7/dist-packages (from requests->torchvision) (2.10)\n"
          ]
        }
      ],
      "source": [
        "!pip3 install torch torchvision torchaudio --extra-index-url https://download.pytorch.org/whl/cu113"
      ]
    },
    {
      "cell_type": "code",
      "execution_count": 2,
      "metadata": {
        "id": "SA4GoFk9A20A",
        "colab": {
          "base_uri": "https://localhost:8080/"
        },
        "outputId": "4067771a-908f-4781-8094-8e6e72b18a30"
      },
      "outputs": [
        {
          "output_type": "stream",
          "name": "stdout",
          "text": [
            "Looking in indexes: https://pypi.org/simple, https://us-python.pkg.dev/colab-wheels/public/simple/\n",
            "Requirement already satisfied: transformers in /usr/local/lib/python3.7/dist-packages (4.19.2)\n",
            "Requirement already satisfied: tqdm>=4.27 in /usr/local/lib/python3.7/dist-packages (from transformers) (4.64.0)\n",
            "Requirement already satisfied: importlib-metadata in /usr/local/lib/python3.7/dist-packages (from transformers) (4.11.4)\n",
            "Requirement already satisfied: pyyaml>=5.1 in /usr/local/lib/python3.7/dist-packages (from transformers) (6.0)\n",
            "Requirement already satisfied: huggingface-hub<1.0,>=0.1.0 in /usr/local/lib/python3.7/dist-packages (from transformers) (0.7.0)\n",
            "Requirement already satisfied: packaging>=20.0 in /usr/local/lib/python3.7/dist-packages (from transformers) (21.3)\n",
            "Requirement already satisfied: regex!=2019.12.17 in /usr/local/lib/python3.7/dist-packages (from transformers) (2019.12.20)\n",
            "Requirement already satisfied: filelock in /usr/local/lib/python3.7/dist-packages (from transformers) (3.7.0)\n",
            "Requirement already satisfied: requests in /usr/local/lib/python3.7/dist-packages (from transformers) (2.23.0)\n",
            "Requirement already satisfied: numpy>=1.17 in /usr/local/lib/python3.7/dist-packages (from transformers) (1.21.6)\n",
            "Requirement already satisfied: tokenizers!=0.11.3,<0.13,>=0.11.1 in /usr/local/lib/python3.7/dist-packages (from transformers) (0.12.1)\n",
            "Requirement already satisfied: typing-extensions>=3.7.4.3 in /usr/local/lib/python3.7/dist-packages (from huggingface-hub<1.0,>=0.1.0->transformers) (4.2.0)\n",
            "Requirement already satisfied: pyparsing!=3.0.5,>=2.0.2 in /usr/local/lib/python3.7/dist-packages (from packaging>=20.0->transformers) (3.0.9)\n",
            "Requirement already satisfied: zipp>=0.5 in /usr/local/lib/python3.7/dist-packages (from importlib-metadata->transformers) (3.8.0)\n",
            "Requirement already satisfied: idna<3,>=2.5 in /usr/local/lib/python3.7/dist-packages (from requests->transformers) (2.10)\n",
            "Requirement already satisfied: certifi>=2017.4.17 in /usr/local/lib/python3.7/dist-packages (from requests->transformers) (2022.5.18.1)\n",
            "Requirement already satisfied: urllib3!=1.25.0,!=1.25.1,<1.26,>=1.21.1 in /usr/local/lib/python3.7/dist-packages (from requests->transformers) (1.24.3)\n",
            "Requirement already satisfied: chardet<4,>=3.0.2 in /usr/local/lib/python3.7/dist-packages (from requests->transformers) (3.0.4)\n"
          ]
        }
      ],
      "source": [
        "!pip install transformers"
      ]
    },
    {
      "cell_type": "code",
      "execution_count": 3,
      "metadata": {
        "colab": {
          "base_uri": "https://localhost:8080/"
        },
        "id": "mgnU9KpwBrgD",
        "outputId": "21a7a518-20b8-44be-b3c3-cfc3919f228f"
      },
      "outputs": [
        {
          "output_type": "stream",
          "name": "stdout",
          "text": [
            "Looking in indexes: https://pypi.org/simple, https://us-python.pkg.dev/colab-wheels/public/simple/\n",
            "Requirement already satisfied: PyPDF2 in /usr/local/lib/python3.7/dist-packages (2.1.0)\n",
            "Requirement already satisfied: typing-extensions in /usr/local/lib/python3.7/dist-packages (from PyPDF2) (4.2.0)\n"
          ]
        }
      ],
      "source": [
        "!pip install PyPDF2"
      ]
    },
    {
      "cell_type": "code",
      "execution_count": 4,
      "metadata": {
        "id": "VN7kikf6TuTI"
      },
      "outputs": [],
      "source": [
        "class author:\n",
        "  def __init__(self):\n",
        "    self.value=None\n",
        "\n",
        "  def generate_text(self,file1):\n",
        "    f1=open(file1,\"r\")#opening the text file\n",
        "    words=f1.read()\n",
        "\n",
        "    # Use the first 200 characters to generate the next 800, and then see how similar they are\n",
        "    train,test=words[:200],words[200:1000] \n",
        "    f1.close()\n",
        "\n",
        "    #Importing a pipeline model\n",
        "    from transformers import pipeline \n",
        "\n",
        "    #Using a GPT-Neo model with 1.3 billion parameters\n",
        "    generator=pipeline('text-generation',model=\"EleutherAI/gpt-neo-1.3B\") \n",
        "\n",
        "    #Generating 1000 characters with sampling, and a high temperature indicating words with high probability\n",
        "    res=generator(train,max_length=1000,do_sample=True,temperature=0.9) \n",
        "\n",
        "    #The generated text\n",
        "    text=res[0]['generated_text'] \n",
        "    text=text[200:]\n",
        "    return train,text,test\n",
        "  def similarity(self,file1):\n",
        "    import spacy\n",
        "\n",
        "    #Loading the English library from spaCy\n",
        "    nlp=spacy.load('en_core_web_sm') \n",
        "    doc0,doc1,doc2=self.generate_text(file1)\n",
        "    doc1=doc1.lower()\n",
        "    doc2=doc2.lower()\n",
        "\n",
        "    #Tokenizing the sentences by excluding stopwords and punctuations\n",
        "    doc1=[str(token) for token in nlp(doc1) if not token.is_punct] \n",
        "    doc2=[str(token) for token in nlp(doc2) if not token.is_punct]\n",
        "    words_doc_1=set(doc1)\n",
        "    words_doc_2=set(doc2)\n",
        "\n",
        "    #Words the two texts have together\n",
        "    union=words_doc_1.union(words_doc_2) \n",
        "\n",
        "    #Words the texts have in common\n",
        "    intersection=words_doc_1.intersection(words_doc_2) \n",
        "\n",
        "    #Jaccard Similarity of the texts\n",
        "    val=len(intersection)/len(union) \n",
        "    j=file1.index(\"_\")\n",
        "    print(\"Trained text:\",doc0)\n",
        "    print(\"-\"*60)\n",
        "    print(\"Generated text:\",\" \".join(doc1))\n",
        "    print(\"-\"*60)\n",
        "    print(\"Actual text:\",\" \".join(doc2))\n",
        "    print(\"-\"*60)\n",
        "    return(f\"{file1[:j]} has a similarity index of {val}\")\n",
        "\n",
        "\n"
      ]
    },
    {
      "cell_type": "code",
      "execution_count": 5,
      "metadata": {
        "id": "kN-1SC3KBxKb"
      },
      "outputs": [],
      "source": [
        "obj=author()"
      ]
    },
    {
      "cell_type": "code",
      "source": [
        "obj.similarity(\"AgathaChristie_test.txt\")"
      ],
      "metadata": {
        "id": "QrsyUr1XQK3T",
        "colab": {
          "base_uri": "https://localhost:8080/",
          "height": 1000
        },
        "outputId": "3d22454a-67b8-4ba0-91d4-b86233699953"
      },
      "execution_count": 6,
      "outputs": [
        {
          "output_type": "stream",
          "name": "stderr",
          "text": [
            "Setting `pad_token_id` to `eos_token_id`:50256 for open-end generation.\n"
          ]
        },
        {
          "output_type": "stream",
          "name": "stdout",
          "text": [
            "Trained text: Outside Oakbridge station a little group of people stood in momentary\n",
            "uncertainty. Behind them stood porters with suitcases. One of these called,\n",
            "“Jim!”\n",
            "The driver of one of the taxis stepped forward.\n",
            "------------------------------------------------------------\n",
            "Generated text:   two men in white \n",
            " uniforms emerged suddenly out of the gloom of the doorway a quick glance \n",
            " at the crowd showed the police and within three minutes they were gone \n",
            " the police the porters and the taxi driver went away leaving the crowd \n",
            " astonished and confused the driver however had not yet departed \n",
            " a man with a beard and mustache appeared at the rail head he was dressed \n",
            " in tweeds and wearing a cap he asked if they could not see the car the \n",
            " crowd nodded assent he turned and walked quickly away the porters had \n",
            " gone and the street was empty \n",
            " i hope he is all right said somebody suddenly the police are sure \n",
            " to have him \n",
            " i am sure they will \n",
            " so am i. \n",
            " two men who had been standing by the station came forward they were \n",
            " strangers to the crowd they shook hands warmly they were in uniform \n",
            " i am going to the hospital said one the other shook his head \n",
            " i am going to the police station said the first stranger \n",
            " the police are sure to take you there \n",
            " then i must take the train back again said the other \n",
            " no you must go directly to headquarters you will have to keep your \n",
            " head low if you go to headquarters they will arrest you again \n",
            " i am sure to get there somehow they said together \n",
            " the crowd grew more disturbed again a little group of people men and \n",
            " women walked slowly down the platform the policeman at the door of the \n",
            " station turned and the leader of the group nodded to the officer who had \n",
            " just gone out the policeman stepped back into the darkness the two men \n",
            " came forward again the men with the beard and the mustache the \n",
            " uniformed man said to him i will take you home this evening and gave \n",
            " him a card the other man shook hands with him the two men walked towards \n",
            " the station the first man said i am going to the station with the \n",
            " police \n",
            " thank you said the other \n",
            " they walked slowly in the street but there was no one in the street the \n",
            " two men went into a small shop they stood before the door of the \n",
            " establishment the man with the mustache opened the door and they went \n",
            " into a house the door was opened from the outside a light came into the \n",
            " cell the man with the mustache said to the man in the tweed suit \n",
            " stay here i will get you the number of the office \n",
            " the man in the tweed suit went upstairs the man with the mustache waited \n",
            " there the door opened a man came walking down the stairs they did not \n",
            " know each other they shook hands and each stepped out of the door and \n",
            " went into another house the man with the mustache came out of the house \n",
            " in which he had been taken he nodded to the man with the mustache and \n",
            " said come with me he came out of an entry into another house and went \n",
            " into the street the man with the mustache walked up to the crowd who kept \n",
            " standing by the railroad station \n",
            " you can come here he said to them you do n’t mind waiting a little \n",
            " while do you he said to them there was no one in the street he \n",
            " stopped with an arm around them and looked them over can you see me \n",
            " can you see me please \n",
            " the crowd answered there was no one in the street \n",
            " can you see me \n",
            " i do n’t think so \n",
            " i can see you i am the police i am the officer of the law come \n",
            " here \n",
            " the crowd was quiet now a little boy of about ten came to him he stopped \n",
            " a moment then went on to a neighbor ’s house two men stood waiting for \n",
            " him the crowd watched him one of the men nodded another nodded \n",
            " i ’ll send the number in case you want it\n",
            "------------------------------------------------------------\n",
            "Actual text: \n",
            " you’m for soldier island maybe he asked in a soft devon voice four \n",
            " voices gave assent and then immediately afterwards gave quick surreptitious \n",
            " glances at each other \n",
            " the driver said addressing his remarks to mr justice wargrave as the senior \n",
            " member of the party \n",
            " there are two taxis here sir one of them must wait till the slow train from \n",
            " exeter gets in a matter of five minutes there ’s one gentleman coming by that \n",
            " perhaps one of you would n’t mind waiting you ’d be more comfortable that \n",
            " way \n",
            " vera claythorne her own secretarial position clear in her mind spoke at \n",
            " once \n",
            " i ’ll wait she said if you will go on she looked at the other three her \n",
            " glance and voice had that slight suggestion of command in it that comes from \n",
            " having occupied a position of authority she might have b\n",
            "------------------------------------------------------------\n"
          ]
        },
        {
          "output_type": "execute_result",
          "data": {
            "text/plain": [
              "'AgathaChristie has a similarity index of 0.1801470588235294'"
            ],
            "application/vnd.google.colaboratory.intrinsic+json": {
              "type": "string"
            }
          },
          "metadata": {},
          "execution_count": 6
        }
      ]
    },
    {
      "cell_type": "code",
      "source": [
        "obj.similarity(\"Murakami_test.txt\")"
      ],
      "metadata": {
        "id": "5j_duKEKlR7y",
        "colab": {
          "base_uri": "https://localhost:8080/",
          "height": 1000
        },
        "outputId": "220c317f-2366-4c4c-be8f-950d5ab74c21"
      },
      "execution_count": 7,
      "outputs": [
        {
          "output_type": "stream",
          "name": "stderr",
          "text": [
            "Setting `pad_token_id` to `eos_token_id`:50256 for open-end generation.\n"
          ]
        },
        {
          "output_type": "stream",
          "name": "stdout",
          "text": [
            "Trained text: When the phone rang I was in the kitchen, boiling a potrul of spaghetti and\n",
            "whistling along with an FM broadcast of the overture to Rossini’s The\n",
            "Thieving Magpie, which has to be the perfect music for\n",
            "------------------------------------------------------------\n",
            "Generated text:   the mood i was in \n",
            "\n",
            " hello i asked \n",
            "\n",
            " it was my mum she sounded cross you know i ’m not doing too good she said but i ’m \n",
            " having the baby next week so i do n’t want to be alone \n",
            "\n",
            " a sudden surge of panic hit me oh mum what about you you said you ’d \n",
            " be back for your due date \n",
            "\n",
            " yeah well \n",
            "\n",
            " have you found out yet it was a woman ’s voice and i knew this was \n",
            " about her she ’d been pregnant for quite a while and no one else but me was \n",
            " aware of it \n",
            "\n",
            " well it ’s the 21st i said hoping panic was over but in fact i had \n",
            " no choice but to repeat it to the woman as badly as i could to make her \n",
            " understand she was being left behind it ’s friday which is the day before \n",
            " my due date \n",
            "\n",
            " oh sorry well that ’s fine \n",
            "\n",
            " it ’s all right we ’ll just have to think about it i tried to sound as \n",
            " sociable and convincing as i could but the words came out harsh and hard as \n",
            " if i ’d had to bite them clean off \n",
            "\n",
            " well i ’ll see you in the morning have a good night \n",
            "\n",
            " bye \n",
            "\n",
            " i hung up feeling like i was a piece of the world ’s broken potrul \n",
            " that had gone wrong like i was a piece of the world ’s potrul that had lost \n",
            " its balance i sat at the kitchen table chewing with my mouth full my head \n",
            " was full of fear but my stomach was full of guilt i had done what i could \n",
            " do to help but now it would be my big sister who would have to tell my \n",
            " mother that i did n’t love her and she did n’t love me \n",
            "\n",
            " i called a friend and told him about my situation i wanted to be put on \n",
            " a plane and taken away somewhere where no one would find out how old i was \n",
            " the idea of being on some sort of plane with nobody knowing where i was \n",
            " somewhere in the middle east or perhaps even europe just made my stomach \n",
            " feel all too small and i wanted to scream \n",
            "\n",
            " you should write a letter to your mum said my friend write the letter \n",
            " out loud \n",
            "\n",
            " he was right i ’d tried to compose a letter but i ’d been too scared \n",
            "\n",
            " i phoned my mum from the hospital that night i ’d rehearsed it and there \n",
            " was a pause before she answered because i did n’t know what to say i said \n",
            " mum i ’ve been to hospital \n",
            "\n",
            " oh how awful i ’m sorry \n",
            "\n",
            " i knew you ’d say that you ’ve got a baby \n",
            "\n",
            " she had cried so much she had wept buckets she hung up the phone \n",
            "\n",
            " i put the phone in the drawer and then it hit me my mum was n’t just \n",
            " saying sorry she ’d had a baby i remembered being that age myself then i \n",
            " heard the baby ’s cry and i knew my mum was safe at peace i cried even more \n",
            " because i had the feeling like there was so much more to tell she did n’t \n",
            " care that it was just a matter of a few days but i knew that whatever she \n",
            " said next would be of enormous importance \n",
            "\n",
            " after that i had to do everything i could to be as cheerful as i could to \n",
            " make sure my mum did n’t take it the wrong way and think i did n’t love her as \n",
            " i should so much was at stake and i was so busy worrying that i did n’t have \n",
            " the time to think about it \n",
            "\n",
            " i was too busy wondering if i ’d ever get to see her again then as i \n",
            "\n",
            "------------------------------------------------------------\n",
            "Actual text:   cooking pasta \n",
            " i wanted to ignore the phone not only because the spaghetti was nearly \n",
            " done but because claudio abbado was bringing the london symphony to \n",
            " its musical climax finally though i had to give in it could have been \n",
            " somebody with news of a job opening i lowered the flame went to the \n",
            " living room and picked up the receiver \n",
            " ten minutes please said a woman on the other end \n",
            " i ’m good at recognizing people ’s voices but this was not one i knew \n",
            " excuse me to whom did you wish to speak \n",
            " to you of course ten minutes please that ’s all we need to understand \n",
            " each other her voice was low and soft but otherwise nondescript \n",
            " understand each other \n",
            " each other ’s feelings \n",
            "\n",
            " i leaned over and peeked through the kitchen door the spaghetti pot was \n",
            " steaming nicely and claudi\n",
            "------------------------------------------------------------\n"
          ]
        },
        {
          "output_type": "execute_result",
          "data": {
            "text/plain": [
              "'Murakami has a similarity index of 0.15488215488215487'"
            ],
            "application/vnd.google.colaboratory.intrinsic+json": {
              "type": "string"
            }
          },
          "metadata": {},
          "execution_count": 7
        }
      ]
    },
    {
      "cell_type": "code",
      "source": [
        "obj.similarity(\"PeterSwanson_test.txt\")"
      ],
      "metadata": {
        "id": "hKw8wdZHQYmj",
        "colab": {
          "base_uri": "https://localhost:8080/",
          "height": 1000
        },
        "outputId": "78778802-e258-41b1-c20e-9b1e19451545"
      },
      "execution_count": 8,
      "outputs": [
        {
          "output_type": "stream",
          "name": "stderr",
          "text": [
            "Setting `pad_token_id` to `eos_token_id`:50256 for open-end generation.\n"
          ]
        },
        {
          "output_type": "stream",
          "name": "stdout",
          "text": [
            "Trained text: T\n",
            "CHAPTER 1\n",
            "he front door opened, and I heard the stamp of the FBI agent’s feet on the\n",
            "doormat. It had just begun to snow, and the air that rushed into the store\n",
            "was heavy and brimming with energy. Th\n",
            "------------------------------------------------------------\n",
            "Generated text: orsen and i were standing in the \n",
            " kitchen where we had been since the morning wondering what the hell had \n",
            " happened and why it was that some stupid agent in washington had told us \n",
            " that the police had been to the house \n",
            "\n",
            " what happened thorsen said \n",
            "\n",
            " that ’s what we ’re trying to find out i said \n",
            "\n",
            " you ’re not going to get anything out of me thorsen said \n",
            "\n",
            " he was right it was getting close to dinner time so we decided to go out \n",
            " and have some dinner \n",
            "\n",
            " the next few days were as much a blur as the ones before the morning of \n",
            " the first phone call from the fbi thorsen and i had gone into the store for \n",
            " breakfast but i had barely gotten through and had gotten back to the table \n",
            " before my cell phone gave an alarm from my pocket \n",
            "\n",
            " why is it an alarm i said \n",
            "\n",
            " thorsen looked at me as if i were stupid \n",
            "\n",
            " i do n’t know he said i just think it must happen from time to time \n",
            "\n",
            " we spent that weekend trying to figure out what had happened it was still \n",
            " snowing when we left the house and as we drove through the stormy streets \n",
            " of the big city i thought that perhaps all was not what it seemed to be \n",
            " when i was in town the air was clean and crisp and not only was it \n",
            " snowing but it was the perfect air for what had occurred the stores and \n",
            " the restaurants and the parks all were bathed in the white blue light that \n",
            " was the sun reflected from the snow covered roofs and the snow glistening \n",
            " across them \n",
            "\n",
            " the first thing that had struck me was the quietness the store was as busy \n",
            " as it had been when i got there that morning but there were no \n",
            " conversations no men talking to one another in the store or on the sidewalk \n",
            " or in the dining room nor were there any other sounds what struck me about \n",
            " the silence was the feeling of being alone in such a strange place it was \n",
            " not that i was nervous or afraid i was simply not there \n",
            "\n",
            " when we got to the house i tried the door and found that it was locked i \n",
            " could not find any key or ring to the lock or any sign of an entry i tried \n",
            " several other locks the kitchen stove the refrigerator the \n",
            " fireplace it was as if i wanted to find something but as far as i could \n",
            " tell there was nothing to find \n",
            "\n",
            " i told thorsen there ’s nothing to find there ’s nobody here \n",
            "\n",
            " so you ’re thinking that you ’ve hit the jackpot he said \n",
            "\n",
            " it was true and i was not just thinking it i had not done any of the \n",
            " things i had been hoping to do since the day the man had left my house it \n",
            " seemed that the man had simply vanished i was not going to find anything \n",
            " here and i was not going to have to go back to the house to do anything i \n",
            " was going to remain here and i was not going to leave the house and have \n",
            " him in washington to take charge of us \n",
            "\n",
            " i had no idea what had happened and i felt as if i did n’t need to know \n",
            " just yet i knew however that i had a problem the problem would become \n",
            " the reality when i returned to the house and i knew for certain \n",
            " something was wrong thorsen had already returned to his house and \n",
            " there were already calls from washington to the house i had not gone to the \n",
            " house yet i had only returned and was wondering what all the fuss was \n",
            " about i had no idea what had happened and i was n’t going to find out \n",
            "\n",
            " i went into the bedroom where he was asleep i went to the door and he \n",
            " stopped me \n",
            "\n",
            " what are you going to do he asked \n",
            "\n",
            " what are you going to do i said are you going to go down to the \n",
            " street and report a\n",
            "------------------------------------------------------------\n",
            "Actual text: e door shut behind the agent she \n",
            " must have been just outside when she ’d called because it had only been about \n",
            " five minutes since i ’d agreed to meet with her \n",
            " except for me the store was empty i do n’t know exactly why i ’d opened \n",
            " it that day a storm was forecast to drop over two feet of snow beginning in \n",
            " the morning and continuing through until the following afternoon boston \n",
            " public schools had already announced they were closing early and they ’d \n",
            " canceled all classes for the following day i ’d called the two employees who \n",
            " were scheduled to come in emily for the morning shift and early afternoon \n",
            " and brandon for the afternoon and evening and told them both to stay home \n",
            " i logged on to the old devils bookstore twitter account and was about to \n",
            " send out a tweet saying that we were closed f\n",
            "------------------------------------------------------------\n"
          ]
        },
        {
          "output_type": "execute_result",
          "data": {
            "text/plain": [
              "'PeterSwanson has a similarity index of 0.13898305084745763'"
            ],
            "application/vnd.google.colaboratory.intrinsic+json": {
              "type": "string"
            }
          },
          "metadata": {},
          "execution_count": 8
        }
      ]
    },
    {
      "cell_type": "code",
      "source": [
        ""
      ],
      "metadata": {
        "id": "BQ2bpo3vYCAA"
      },
      "execution_count": 8,
      "outputs": []
    }
  ],
  "metadata": {
    "colab": {
      "collapsed_sections": [],
      "name": "GPT-3 model.ipynb",
      "provenance": []
    },
    "kernelspec": {
      "display_name": "Python 3",
      "name": "python3"
    },
    "language_info": {
      "name": "python"
    }
  },
  "nbformat": 4,
  "nbformat_minor": 0
}
