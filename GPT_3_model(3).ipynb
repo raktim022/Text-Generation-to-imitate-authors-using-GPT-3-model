{
  "cells": [
    {
      "cell_type": "code",
      "execution_count": 8,
      "metadata": {
        "id": "9HE3Xo2TAtHY",
        "colab": {
          "base_uri": "https://localhost:8080/"
        },
        "outputId": "9dc7f27b-185e-4436-9c38-e52c00b2bb7e"
      },
      "outputs": [
        {
          "output_type": "stream",
          "name": "stdout",
          "text": [
            "Looking in indexes: https://pypi.org/simple, https://us-python.pkg.dev/colab-wheels/public/simple/, https://download.pytorch.org/whl/cu113\n",
            "Requirement already satisfied: torch in /usr/local/lib/python3.7/dist-packages (1.11.0+cu113)\n",
            "Requirement already satisfied: torchvision in /usr/local/lib/python3.7/dist-packages (0.12.0+cu113)\n",
            "Requirement already satisfied: torchaudio in /usr/local/lib/python3.7/dist-packages (0.11.0+cu113)\n",
            "Requirement already satisfied: typing-extensions in /usr/local/lib/python3.7/dist-packages (from torch) (4.2.0)\n",
            "Requirement already satisfied: numpy in /usr/local/lib/python3.7/dist-packages (from torchvision) (1.21.6)\n",
            "Requirement already satisfied: requests in /usr/local/lib/python3.7/dist-packages (from torchvision) (2.23.0)\n",
            "Requirement already satisfied: pillow!=8.3.*,>=5.3.0 in /usr/local/lib/python3.7/dist-packages (from torchvision) (7.1.2)\n",
            "Requirement already satisfied: urllib3!=1.25.0,!=1.25.1,<1.26,>=1.21.1 in /usr/local/lib/python3.7/dist-packages (from requests->torchvision) (1.24.3)\n",
            "Requirement already satisfied: idna<3,>=2.5 in /usr/local/lib/python3.7/dist-packages (from requests->torchvision) (2.10)\n",
            "Requirement already satisfied: certifi>=2017.4.17 in /usr/local/lib/python3.7/dist-packages (from requests->torchvision) (2022.5.18.1)\n",
            "Requirement already satisfied: chardet<4,>=3.0.2 in /usr/local/lib/python3.7/dist-packages (from requests->torchvision) (3.0.4)\n"
          ]
        }
      ],
      "source": [
        "!pip3 install torch torchvision torchaudio --extra-index-url https://download.pytorch.org/whl/cu113"
      ]
    },
    {
      "cell_type": "code",
      "execution_count": 9,
      "metadata": {
        "id": "SA4GoFk9A20A",
        "colab": {
          "base_uri": "https://localhost:8080/"
        },
        "outputId": "c05d867e-55db-4580-9e1c-2733ac6bd7bf"
      },
      "outputs": [
        {
          "output_type": "stream",
          "name": "stdout",
          "text": [
            "Looking in indexes: https://pypi.org/simple, https://us-python.pkg.dev/colab-wheels/public/simple/\n",
            "Requirement already satisfied: transformers in /usr/local/lib/python3.7/dist-packages (4.19.2)\n",
            "Requirement already satisfied: filelock in /usr/local/lib/python3.7/dist-packages (from transformers) (3.7.0)\n",
            "Requirement already satisfied: pyyaml>=5.1 in /usr/local/lib/python3.7/dist-packages (from transformers) (6.0)\n",
            "Requirement already satisfied: huggingface-hub<1.0,>=0.1.0 in /usr/local/lib/python3.7/dist-packages (from transformers) (0.7.0)\n",
            "Requirement already satisfied: tokenizers!=0.11.3,<0.13,>=0.11.1 in /usr/local/lib/python3.7/dist-packages (from transformers) (0.12.1)\n",
            "Requirement already satisfied: packaging>=20.0 in /usr/local/lib/python3.7/dist-packages (from transformers) (21.3)\n",
            "Requirement already satisfied: tqdm>=4.27 in /usr/local/lib/python3.7/dist-packages (from transformers) (4.64.0)\n",
            "Requirement already satisfied: importlib-metadata in /usr/local/lib/python3.7/dist-packages (from transformers) (4.11.4)\n",
            "Requirement already satisfied: numpy>=1.17 in /usr/local/lib/python3.7/dist-packages (from transformers) (1.21.6)\n",
            "Requirement already satisfied: regex!=2019.12.17 in /usr/local/lib/python3.7/dist-packages (from transformers) (2019.12.20)\n",
            "Requirement already satisfied: requests in /usr/local/lib/python3.7/dist-packages (from transformers) (2.23.0)\n",
            "Requirement already satisfied: typing-extensions>=3.7.4.3 in /usr/local/lib/python3.7/dist-packages (from huggingface-hub<1.0,>=0.1.0->transformers) (4.2.0)\n",
            "Requirement already satisfied: pyparsing!=3.0.5,>=2.0.2 in /usr/local/lib/python3.7/dist-packages (from packaging>=20.0->transformers) (3.0.9)\n",
            "Requirement already satisfied: zipp>=0.5 in /usr/local/lib/python3.7/dist-packages (from importlib-metadata->transformers) (3.8.0)\n",
            "Requirement already satisfied: idna<3,>=2.5 in /usr/local/lib/python3.7/dist-packages (from requests->transformers) (2.10)\n",
            "Requirement already satisfied: certifi>=2017.4.17 in /usr/local/lib/python3.7/dist-packages (from requests->transformers) (2022.5.18.1)\n",
            "Requirement already satisfied: urllib3!=1.25.0,!=1.25.1,<1.26,>=1.21.1 in /usr/local/lib/python3.7/dist-packages (from requests->transformers) (1.24.3)\n",
            "Requirement already satisfied: chardet<4,>=3.0.2 in /usr/local/lib/python3.7/dist-packages (from requests->transformers) (3.0.4)\n"
          ]
        }
      ],
      "source": [
        "!pip install transformers"
      ]
    },
    {
      "cell_type": "code",
      "execution_count": 10,
      "metadata": {
        "colab": {
          "base_uri": "https://localhost:8080/"
        },
        "id": "mgnU9KpwBrgD",
        "outputId": "f0dc0606-7cff-4df0-fe7b-0a5813064b44"
      },
      "outputs": [
        {
          "output_type": "stream",
          "name": "stdout",
          "text": [
            "Looking in indexes: https://pypi.org/simple, https://us-python.pkg.dev/colab-wheels/public/simple/\n",
            "Requirement already satisfied: PyPDF2 in /usr/local/lib/python3.7/dist-packages (2.1.0)\n",
            "Requirement already satisfied: typing-extensions in /usr/local/lib/python3.7/dist-packages (from PyPDF2) (4.2.0)\n"
          ]
        }
      ],
      "source": [
        "!pip install PyPDF2"
      ]
    },
    {
      "cell_type": "code",
      "execution_count": 11,
      "metadata": {
        "id": "VN7kikf6TuTI"
      },
      "outputs": [],
      "source": [
        "class author:\n",
        "  def __init__(self):\n",
        "    self.value=None\n",
        "\n",
        "  def generate_text(self,file1):\n",
        "    f1=open(file1,\"r\")#opening the text file\n",
        "    words=f1.read()\n",
        "    train,test=words[:200],words[200:1000] # Use the first 200 characters to generate the next 800, and then see how similar they are\n",
        "    f1.close()\n",
        "    from transformers import pipeline #Importing a pipeline model\n",
        "    generator=pipeline('text-generation',model=\"EleutherAI/gpt-neo-1.3B\") #Using a GPT-Neo model with 1.3 billion parameters\n",
        "    res=generator(train,max_length=1000,do_sample=True,temperature=0.9) #Generating 1000 characters with sampling, and a high temperature indicating words with high probability\n",
        "    text=res[0]['generated_text'] #The generated text\n",
        "    text=text[200:]\n",
        "    return train,text,test\n",
        "  def similarity(self,file1):\n",
        "    import spacy\n",
        "    nlp=spacy.load('en_core_web_sm') #Loading the English library from spaCy\n",
        "    doc0,doc1,doc2=self.generate_text(file1)\n",
        "    doc1=doc1.lower()\n",
        "    doc2=doc2.lower()\n",
        "    doc1=[str(token) for token in nlp(doc1) if not token.is_stop and not token.is_punct] #Tokenizing the sentences by excluding stopwords and punctuations\n",
        "    doc2=[str(token) for token in nlp(doc2) if not token.is_stop and not token.is_punct]\n",
        "    words_doc_1=set(doc1)\n",
        "    words_doc_2=set(doc2)\n",
        "    union=words_doc_1.union(words_doc_2) #Words the two texts have together\n",
        "    intersection=words_doc_1.intersection(words_doc_2) #Words the texts have in common\n",
        "    val=len(intersection)/len(union) #Jaccard Similarity of the texts\n",
        "    j=file1.index(\"_\")\n",
        "    print(\"Trained text:\",doc0)\n",
        "    print(\"-\"*60)\n",
        "    print(\"Generated text:\",\" \".join(doc1))\n",
        "    print(\"-\"*60)\n",
        "    print(\"Actual text:\",\" \".join(doc2))\n",
        "    print(\"-\"*60)\n",
        "    return(f\"{file1[:j]} has a similarity index of {val}\")\n",
        "\n",
        "\n"
      ]
    },
    {
      "cell_type": "code",
      "execution_count": 12,
      "metadata": {
        "id": "kN-1SC3KBxKb"
      },
      "outputs": [],
      "source": [
        "obj=author()"
      ]
    },
    {
      "cell_type": "code",
      "source": [
        "obj.similarity(\"AgathaChristie_test.txt\")"
      ],
      "metadata": {
        "colab": {
          "base_uri": "https://localhost:8080/",
          "height": 1000
        },
        "id": "QrsyUr1XQK3T",
        "outputId": "aeb0fc38-b3c6-4676-ecde-73d66e41dd1a"
      },
      "execution_count": 13,
      "outputs": [
        {
          "output_type": "stream",
          "name": "stderr",
          "text": [
            "Setting `pad_token_id` to `eos_token_id`:50256 for open-end generation.\n"
          ]
        },
        {
          "output_type": "stream",
          "name": "stdout",
          "text": [
            "Trained text: Outside Oakbridge station a little group of people stood in momentary\n",
            "uncertainty. Behind them stood porters with suitcases. One of these called,\n",
            "“Jim!”\n",
            "The driver of one of the taxis stepped forward.\n",
            "------------------------------------------------------------\n",
            "Generated text:   hello \n",
            " driver \n",
            " driver voice broke look tell \n",
            " address telephone number know case tell \n",
            " nice \n",
            "\n",
            " step life \n",
            " important steps \n",
            "\n",
            " hi calling place probably needs \n",
            " value leave talking \n",
            "\n",
            " moment life \n",
            " left mercy chance \n",
            "\n",
            " moment told choose \n",
            " friends \n",
            "\n",
            " moment life \n",
            " left devices \n",
            "\n",
            " sure person \n",
            " fingers right place \n",
            " \n",
            "\n",
            " moment life told \n",
            " right choices \n",
            "\n",
            " life series little decisions \n",
            " greatest impact \n",
            "\n",
            " known \n",
            " time walked asked know \n",
            " need help \n",
            " cristal cordero\n",
            "------------------------------------------------------------\n",
            "Actual text: \n",
            " you’m soldier island maybe asked soft devon voice \n",
            " voices gave assent immediately gave quick surreptitious \n",
            " glances \n",
            " driver said addressing remarks mr justice wargrave senior \n",
            " member party \n",
            " taxis sir wait till slow train \n",
            " exeter gets matter minutes gentleman coming \n",
            " mind waiting comfortable \n",
            " way \n",
            " vera claythorne secretarial position clear mind spoke \n",
            " \n",
            " wait said looked \n",
            " glance voice slight suggestion command comes \n",
            " having occupied position authority b\n",
            "------------------------------------------------------------\n"
          ]
        },
        {
          "output_type": "execute_result",
          "data": {
            "text/plain": [
              "'AgathaChristie has a similarity index of 0.037383177570093455'"
            ],
            "application/vnd.google.colaboratory.intrinsic+json": {
              "type": "string"
            }
          },
          "metadata": {},
          "execution_count": 13
        }
      ]
    },
    {
      "cell_type": "code",
      "source": [
        "obj.similarity(\"Murakami_test.txt\")"
      ],
      "metadata": {
        "id": "5j_duKEKlR7y",
        "colab": {
          "base_uri": "https://localhost:8080/",
          "height": 1000
        },
        "outputId": "70def4de-e994-4b65-a1d5-1d3a1c196e6b"
      },
      "execution_count": 14,
      "outputs": [
        {
          "output_type": "stream",
          "name": "stderr",
          "text": [
            "Setting `pad_token_id` to `eos_token_id`:50256 for open-end generation.\n"
          ]
        },
        {
          "output_type": "stream",
          "name": "stdout",
          "text": [
            "Trained text: When the phone rang I was in the kitchen, boiling a potrul of spaghetti and\n",
            "whistling along with an FM broadcast of the overture to Rossini’s The\n",
            "Thieving Magpie, which has to be the perfect music for\n",
            "------------------------------------------------------------\n",
            "Generated text:   ice cream party \n",
            "\n",
            " hello best time calling crooned \n",
            " like glass red wine \n",
            "\n",
            " let evening birthday remember \n",
            "\n",
            " yeah said \n",
            "\n",
            " got iphone giggled guess like play video games \n",
            "\n",
            " laughed talkin gon na couch \n",
            " kitchen \n",
            "\n",
            " course added cheerfully couple hours \n",
            " thing got ta hair fixed \n",
            " dad \n",
            "\n",
            " yessir said room playing video games \n",
            " couch daughter o’clock \n",
            " driving airport gon na real blast old man \n",
            " wants midnight gon na room \n",
            " viceroy hotel \n",
            "\n",
            " stopped talking grinned little said problem \n",
            " wife got florida week \n",
            " ai gon na happen \n",
            "\n",
            " oh said bet little problem hear \n",
            " casino florida gon na casino tour \n",
            "\n",
            " groaned yes kind treatment \n",
            " bargain going cruise ships \n",
            "\n",
            " said smugly \n",
            "\n",
            " know said wife cruise \n",
            "\n",
            " \n",
            "\n",
            " blond girl \n",
            "\n",
            " blonde huh \n",
            "\n",
            " groaned want meet \n",
            "\n",
            " right asked problem \n",
            "\n",
            " bit worried said gloomily got bad thought \n",
            " doctor fix believe doctor \n",
            " stupid pain right head believe \n",
            " doctor \n",
            "\n",
            " talking headaches said little sharply \n",
            "\n",
            " oh said headaches pressure head \n",
            " hard concentrate especially watching football game \n",
            " goin’ forever \n",
            "\n",
            " talking \n",
            "\n",
            " said \n",
            "\n",
            " oh long headaches going \n",
            "\n",
            " fourteen thirty \n",
            "\n",
            " wow want europe gamble roller skates \n",
            "\n",
            " want vacation thought think \n",
            " thing better \n",
            "\n",
            " lucky said answer like \n",
            " man cruise ship \n",
            "\n",
            "------------------------------------------------------------\n",
            "Actual text:   cooking pasta \n",
            " wanted ignore phone spaghetti nearly \n",
            " claudio abbado bringing london symphony \n",
            " musical climax finally \n",
            " somebody news job opening lowered flame went \n",
            " living room picked receiver \n",
            " minutes said woman end \n",
            " good recognizing people voices knew \n",
            " excuse wish speak \n",
            " course minutes need understand \n",
            " voice low soft nondescript \n",
            " understand \n",
            " feelings \n",
            "\n",
            " leaned peeked kitchen door spaghetti pot \n",
            " steaming nicely claudi\n",
            "------------------------------------------------------------\n"
          ]
        },
        {
          "output_type": "execute_result",
          "data": {
            "text/plain": [
              "'Murakami has a similarity index of 0.03932584269662921'"
            ],
            "application/vnd.google.colaboratory.intrinsic+json": {
              "type": "string"
            }
          },
          "metadata": {},
          "execution_count": 14
        }
      ]
    },
    {
      "cell_type": "code",
      "source": [
        "obj.similarity(\"PeterSwanson_test.txt\")"
      ],
      "metadata": {
        "colab": {
          "base_uri": "https://localhost:8080/",
          "height": 1000
        },
        "id": "hKw8wdZHQYmj",
        "outputId": "b65a10f5-16dc-462b-ac27-aa8fe3c12a53"
      },
      "execution_count": 15,
      "outputs": [
        {
          "output_type": "stream",
          "name": "stderr",
          "text": [
            "Setting `pad_token_id` to `eos_token_id`:50256 for open-end generation.\n"
          ]
        },
        {
          "output_type": "stream",
          "name": "stdout",
          "text": [
            "Trained text: T\n",
            "CHAPTER 1\n",
            "he front door opened, and I heard the stamp of the FBI agent’s feet on the\n",
            "doormat. It had just begun to snow, and the air that rushed into the store\n",
            "was heavy and brimming with energy. Th\n",
            "------------------------------------------------------------\n",
            "Generated text: ad mary left hours ago \n",
            " woods bothered ask gotten away \n",
            " sure coming \n",
            " demanded sharply know supposed \n",
            " \n",
            " agent voice sounded bit edgy yes \n",
            " hard tell thought maybe felt concern \n",
            " unusual hour worried finding way \n",
            " thought target \n",
            " said \n",
            " tired cold feet hurt shirt jacket \n",
            " soaked snow thick blanket tell \n",
            " hard woods hands cold arms stiff nose \n",
            " blew breathed \n",
            " asked meaning \n",
            " mary thad said told come \n",
            " asked find \n",
            " need talk friend \n",
            " shocked information revealed \n",
            " friend asked like foolish question \n",
            " know \n",
            " voice gentler friend mean \n",
            " know said impasse money \n",
            " mean money stolen money stolen \n",
            " felt cheeks warm talked told \n",
            " thought knew matter afterward \n",
            " money asked hell talking \n",
            " money took said money took bank \n",
            " said money stolen gone taken \n",
            " bank \n",
            " mr t thought mr t mary \n",
            " bailer come way \n",
            " know reason \n",
            " understand changed sure meant \n",
            " fingers stiff little slivers keyboard \n",
            " tried budge realized frozen \n",
            " place knees fell chest body shaking \n",
            " palsy heart beating fast afraid pop \n",
            " chest \n",
            " saying need someplace hide said weakly \n",
            " thought maybe bank mr t whispered \n",
            " said afford \n",
            " \n",
            " thief said way \n",
            " love \n",
            " \n",
            " way said scared wonder \n",
            " making sense talking like time \n",
            " years\n",
            "------------------------------------------------------------\n",
            "Actual text: e door shut agent \n",
            " outside called \n",
            " minutes agreed meet \n",
            " store know exactly opened \n",
            " day storm forecast drop feet snow beginning \n",
            " morning continuing following afternoon boston \n",
            " public schools announced closing early \n",
            " canceled classes following day called employees \n",
            " scheduled come emily morning shift early afternoon \n",
            " brandon afternoon evening told stay home \n",
            " logged old devils bookstore twitter account \n",
            " send tweet saying closed f\n",
            "------------------------------------------------------------\n"
          ]
        },
        {
          "output_type": "execute_result",
          "data": {
            "text/plain": [
              "'PeterSwanson has a similarity index of 0.04678362573099415'"
            ],
            "application/vnd.google.colaboratory.intrinsic+json": {
              "type": "string"
            }
          },
          "metadata": {},
          "execution_count": 15
        }
      ]
    }
  ],
  "metadata": {
    "colab": {
      "collapsed_sections": [],
      "name": "GPT-3 model.ipynb",
      "provenance": []
    },
    "kernelspec": {
      "display_name": "Python 3",
      "name": "python3"
    },
    "language_info": {
      "name": "python"
    }
  },
  "nbformat": 4,
  "nbformat_minor": 0
}