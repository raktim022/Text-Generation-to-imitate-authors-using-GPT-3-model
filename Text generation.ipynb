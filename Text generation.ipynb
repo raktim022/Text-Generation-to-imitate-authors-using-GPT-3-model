{
  "cells": [
    {
      "cell_type": "code",
      "execution_count": 9,
      "metadata": {
        "id": "9HE3Xo2TAtHY",
        "colab": {
          "base_uri": "https://localhost:8080/"
        },
        "outputId": "fc04eaf7-6608-41a7-ac60-a23d19297f88"
      },
      "outputs": [
        {
          "output_type": "stream",
          "name": "stdout",
          "text": [
            "Looking in indexes: https://pypi.org/simple, https://us-python.pkg.dev/colab-wheels/public/simple/, https://download.pytorch.org/whl/cu113\n",
            "Requirement already satisfied: torch in /usr/local/lib/python3.7/dist-packages (1.11.0+cu113)\n",
            "Requirement already satisfied: torchvision in /usr/local/lib/python3.7/dist-packages (0.12.0+cu113)\n",
            "Requirement already satisfied: torchaudio in /usr/local/lib/python3.7/dist-packages (0.11.0+cu113)\n",
            "Requirement already satisfied: typing-extensions in /usr/local/lib/python3.7/dist-packages (from torch) (4.2.0)\n",
            "Requirement already satisfied: pillow!=8.3.*,>=5.3.0 in /usr/local/lib/python3.7/dist-packages (from torchvision) (7.1.2)\n",
            "Requirement already satisfied: numpy in /usr/local/lib/python3.7/dist-packages (from torchvision) (1.21.6)\n",
            "Requirement already satisfied: requests in /usr/local/lib/python3.7/dist-packages (from torchvision) (2.23.0)\n",
            "Requirement already satisfied: certifi>=2017.4.17 in /usr/local/lib/python3.7/dist-packages (from requests->torchvision) (2022.5.18.1)\n",
            "Requirement already satisfied: urllib3!=1.25.0,!=1.25.1,<1.26,>=1.21.1 in /usr/local/lib/python3.7/dist-packages (from requests->torchvision) (1.24.3)\n",
            "Requirement already satisfied: chardet<4,>=3.0.2 in /usr/local/lib/python3.7/dist-packages (from requests->torchvision) (3.0.4)\n",
            "Requirement already satisfied: idna<3,>=2.5 in /usr/local/lib/python3.7/dist-packages (from requests->torchvision) (2.10)\n"
          ]
        }
      ],
      "source": [
        "!pip3 install torch torchvision torchaudio --extra-index-url https://download.pytorch.org/whl/cu113"
      ]
    },
    {
      "cell_type": "code",
      "execution_count": 10,
      "metadata": {
        "id": "SA4GoFk9A20A",
        "colab": {
          "base_uri": "https://localhost:8080/"
        },
        "outputId": "0e4e1c51-2b38-42c0-c469-3f153be8b460"
      },
      "outputs": [
        {
          "output_type": "stream",
          "name": "stdout",
          "text": [
            "Looking in indexes: https://pypi.org/simple, https://us-python.pkg.dev/colab-wheels/public/simple/\n",
            "Requirement already satisfied: transformers in /usr/local/lib/python3.7/dist-packages (4.19.2)\n",
            "Requirement already satisfied: tokenizers!=0.11.3,<0.13,>=0.11.1 in /usr/local/lib/python3.7/dist-packages (from transformers) (0.12.1)\n",
            "Requirement already satisfied: packaging>=20.0 in /usr/local/lib/python3.7/dist-packages (from transformers) (21.3)\n",
            "Requirement already satisfied: regex!=2019.12.17 in /usr/local/lib/python3.7/dist-packages (from transformers) (2019.12.20)\n",
            "Requirement already satisfied: importlib-metadata in /usr/local/lib/python3.7/dist-packages (from transformers) (4.11.4)\n",
            "Requirement already satisfied: filelock in /usr/local/lib/python3.7/dist-packages (from transformers) (3.7.0)\n",
            "Requirement already satisfied: tqdm>=4.27 in /usr/local/lib/python3.7/dist-packages (from transformers) (4.64.0)\n",
            "Requirement already satisfied: huggingface-hub<1.0,>=0.1.0 in /usr/local/lib/python3.7/dist-packages (from transformers) (0.7.0)\n",
            "Requirement already satisfied: numpy>=1.17 in /usr/local/lib/python3.7/dist-packages (from transformers) (1.21.6)\n",
            "Requirement already satisfied: pyyaml>=5.1 in /usr/local/lib/python3.7/dist-packages (from transformers) (6.0)\n",
            "Requirement already satisfied: requests in /usr/local/lib/python3.7/dist-packages (from transformers) (2.23.0)\n",
            "Requirement already satisfied: typing-extensions>=3.7.4.3 in /usr/local/lib/python3.7/dist-packages (from huggingface-hub<1.0,>=0.1.0->transformers) (4.2.0)\n",
            "Requirement already satisfied: pyparsing!=3.0.5,>=2.0.2 in /usr/local/lib/python3.7/dist-packages (from packaging>=20.0->transformers) (3.0.9)\n",
            "Requirement already satisfied: zipp>=0.5 in /usr/local/lib/python3.7/dist-packages (from importlib-metadata->transformers) (3.8.0)\n",
            "Requirement already satisfied: urllib3!=1.25.0,!=1.25.1,<1.26,>=1.21.1 in /usr/local/lib/python3.7/dist-packages (from requests->transformers) (1.24.3)\n",
            "Requirement already satisfied: chardet<4,>=3.0.2 in /usr/local/lib/python3.7/dist-packages (from requests->transformers) (3.0.4)\n",
            "Requirement already satisfied: idna<3,>=2.5 in /usr/local/lib/python3.7/dist-packages (from requests->transformers) (2.10)\n",
            "Requirement already satisfied: certifi>=2017.4.17 in /usr/local/lib/python3.7/dist-packages (from requests->transformers) (2022.5.18.1)\n"
          ]
        }
      ],
      "source": [
        "!pip install transformers"
      ]
    },
    {
      "cell_type": "code",
      "execution_count": 11,
      "metadata": {
        "colab": {
          "base_uri": "https://localhost:8080/"
        },
        "id": "mgnU9KpwBrgD",
        "outputId": "8a6f5260-5249-40ce-96cd-dd5c6dba58e4"
      },
      "outputs": [
        {
          "output_type": "stream",
          "name": "stdout",
          "text": [
            "Looking in indexes: https://pypi.org/simple, https://us-python.pkg.dev/colab-wheels/public/simple/\n",
            "Requirement already satisfied: PyPDF2 in /usr/local/lib/python3.7/dist-packages (2.1.0)\n",
            "Requirement already satisfied: typing-extensions in /usr/local/lib/python3.7/dist-packages (from PyPDF2) (4.2.0)\n"
          ]
        }
      ],
      "source": [
        "!pip install PyPDF2"
      ]
    },
    {
      "cell_type": "code",
      "execution_count": 12,
      "metadata": {
        "id": "VN7kikf6TuTI"
      },
      "outputs": [],
      "source": [
        "class author:\n",
        "  def __init__(self):\n",
        "    self.value=None\n",
        "\n",
        "  def generate_text(self,file1):\n",
        "    f1=open(file1,\"r\")#opening the text file\n",
        "    words=f1.read()\n",
        "    words=words.split()\n",
        "    \n",
        "    # Use the first 200 characters to generate the next 800, and then see how similar they are\n",
        "    train,test=words[:200],words[200:1000] \n",
        "    train=\" \".join(train)\n",
        "    test=\" \".join(test)\n",
        "    f1.close()\n",
        "\n",
        "    #Importing a pipeline model\n",
        "    from transformers import pipeline \n",
        "\n",
        "    #Using a GPT-Neo model with 1.3 billion parameters\n",
        "    generator=pipeline('text-generation',model=\"EleutherAI/gpt-neo-1.3B\") \n",
        "\n",
        "    #Generating 1000 characters with sampling, and a high temperature indicating words with high probability\n",
        "    res=generator(train,max_length=1000,do_sample=True,temperature=0.9) \n",
        "\n",
        "    #The generated text\n",
        "    text=res[0]['generated_text'] \n",
        "    text=text[200:]\n",
        "    return train,text,test\n",
        "  def similarity(self,file1):\n",
        "    import spacy\n",
        "\n",
        "    #Loading the English library from spaCy\n",
        "    nlp=spacy.load('en_core_web_sm') \n",
        "    doc0,doc1,doc2=self.generate_text(file1)\n",
        "    doc1=doc1.lower()\n",
        "    doc2=doc2.lower()\n",
        "\n",
        "    #Tokenizing the sentences by excluding stopwords and punctuations\n",
        "    doc1=[str(token) for token in nlp(doc1) if not token.is_punct] \n",
        "    doc2=[str(token) for token in nlp(doc2) if not token.is_punct]\n",
        "    words_doc_1=set(doc1)\n",
        "    words_doc_2=set(doc2)\n",
        "\n",
        "    #Words the two texts have together\n",
        "    union=words_doc_1.union(words_doc_2) \n",
        "\n",
        "    #Words the texts have in common\n",
        "    intersection=words_doc_1.intersection(words_doc_2) \n",
        "\n",
        "    #Jaccard Similarity of the texts\n",
        "    val=len(intersection)/len(union) \n",
        "    j=file1.index(\"_\")\n",
        "    print(\"Trained text:\",doc0)\n",
        "    print(\"-\"*60)\n",
        "    print(\"Generated text:\",\" \".join(doc1))\n",
        "    print(\"-\"*60)\n",
        "    print(\"Actual text:\",\" \".join(doc2))\n",
        "    print(\"-\"*60)\n",
        "    return(f\"{file1[:j]} has a similarity index of {val}\")\n",
        "\n",
        "\n"
      ]
    },
    {
      "cell_type": "code",
      "execution_count": 13,
      "metadata": {
        "id": "kN-1SC3KBxKb"
      },
      "outputs": [],
      "source": [
        "obj=author()"
      ]
    },
    {
      "cell_type": "code",
      "source": [
        "obj.similarity(\"AgathaChristie_test.txt\")"
      ],
      "metadata": {
        "id": "QrsyUr1XQK3T",
        "colab": {
          "base_uri": "https://localhost:8080/",
          "height": 246
        },
        "outputId": "4944ed49-7a86-458d-9aff-c461435230ef"
      },
      "execution_count": 14,
      "outputs": [
        {
          "output_type": "stream",
          "name": "stderr",
          "text": [
            "Setting `pad_token_id` to `eos_token_id`:50256 for open-end generation.\n"
          ]
        },
        {
          "output_type": "stream",
          "name": "stdout",
          "text": [
            "Trained text: Outside Oakbridge station a little group of people stood in momentary uncertainty. Behind them stood porters with suitcases. One of these called, “Jim!” The driver of one of the taxis stepped forward. “You’m for Soldier Island, maybe?” he asked in a soft Devon voice. Four voices gave assent—and then immediately afterwards gave quick surreptitious glances at each other. The driver said, addressing his remarks to Mr. Justice Wargrave as the senior member of the party: “There are two taxis here, sir. One of them must wait till the slow train from Exeter gets in—a matter of five minutes—there’s one gentleman coming by that. Perhaps one of you wouldn’t mind waiting? You’d be more comfortable that way.” Vera Claythorne, her own secretarial position clear in her mind, spoke at once. “I’ll wait,” she said, “if you will go on?” She looked at the other three, her glance and voice had that slight suggestion of command in it that comes from having occupied a position of authority. She might have been directing which tennis sets the girls were to play in. Miss Brent said stiffly, “Thank you,” bent her head and entered one of the taxis, the door of which the driver\n",
            "------------------------------------------------------------\n",
            "Generated text:   you’m for soldier island maybe he asked in a soft devon voice four voices gave assent and then immediately afterwards gave quick surreptitious glances at each other the driver said addressing his remarks to mr justice wargrave as the senior member of the party there are two taxis here sir one of them must wait till the slow train from exeter gets in a matter of five minutes there ’s one gentleman coming by that perhaps one of you would n’t mind waiting you ’d be more comfortable that way vera claythorne her own secretarial position clear in her mind spoke at once i ’ll wait she said if you will go on she looked at the other three her glance and voice had that slight suggestion of command in it that comes from having occupied a position of authority she might have been directing which tennis sets the girls were to play in miss brent said stiffly thank you bent her head and entered one of the taxis the door of which the driver did not slam as if he were surprised vera claythorne went up slowly behind her not meeting anybody ’s eye and stood with her eyes closed trying to work out for herself how she felt when she heard the other two men behind her go off she ’d imagined that it would be all very strange and a little frightening what would they be saying what would they be doing she looked at miss brent and saw that she had her hair up and wore rather a low tight fitting cap without a band like a girl who does n’t want to draw attention she was not therefore like a girl who was going to the theatre but that her face was not to be seen and she had a little round cap like a sailor ’s cap her whole figure was stiffly rigid and she was not like a girl going to bed \n",
            "\n",
            " a few minutes later a light railway car came rattling up in front of the station what ’s the matter it asked as she opened the door are you going to leave i ’m going away vera claythorne said a little too quickly \n",
            "\n",
            " why are you going away the other said can you think why i ’m going away she cried as the train started up and the car swung out of the station well she cried out as the lights went out and she started for the little waiting room where she ’d left her bicycle and then she cried out again for she was not used to the sound of this voice i ’m going away she said because there ’s too many of them why the quiet voice asked because they take things away who who the voice said as the car went on and the lights went on she ’d heard these questions of course she ’d been asking them herself since she ’d left her bicycle behind and she knew the answer she knew too she was a girl who could work out answers to any one of them of a kind that came to her at last when she caught her breath she said again her voice very loud very fierce and clear they ’re taking things away what things the voice asked the things people like you can hear but i do n’t know what ’s the matter with you that ’s what they ’re taking she said the things people like you can hear you know what that means you know but i do n’t get any of it in the same way that people like you can do i know some things i ’m not aware of and i know other things i ’m not blind but i ’m not blind that ’s all there is to it the same as if you could see i see a picture but i don\n",
            "------------------------------------------------------------\n",
            "Actual text: was holding open mr justice wargrave followed her captain lombard said i ’ll wait with miss claythorne said vera my name is lombard philip lombard the porters were piling luggage on the taxi inside mr justice wargrave said with due legal caution beautiful weather we are having miss brent said yes indeed a very distinguished old gentleman she thought to herself quite unlike the usual type of man in seaside guest houses evidently mrs or miss oliver had good connections mr justice wargrave inquired do you know this part of the world well i have been to cornwall and to torquay but this is my first visit to this part of devon the judge said i also am unacquainted with this part of the world the taxi drove off the driver of the second taxi said like to sit inside while you ’re waiting vera said decisively not at all captain lombard smiled he said that sunny wall looks more attractive unless you ’d rather go inside the station no indeed it ’s so delightful to get out of that stuffy train he answered yes travelling by train is rather trying in this weather vera said conventionally i do hope it lasts the weather i mean our english summers are so treacherous with a slight lack of originality lombard asked do you know this part of the world well no i ’ve never been here before she added quickly conscientiously determined to make her position clear at once i have n’t even seen my employer yet your employer yes i ’m mrs owen ’s secretary oh i see just imperceptibly his manner changed it was slightly more assured easier in tone he said is n’t that rather unusual vera laughed oh no i do n’t think so her own secretary was suddenly taken ill and she wired to an agency for a substitute and they sent me so that was it and suppose you do n’t like the post when you ’ve got there vera laughed again oh it ’s only temporary a holiday post i ’ve got a permanent job at a girls school as a matter of fact i ’m frightfully thrilled at the prospect of seeing soldier island there ’s been such a lot about it in the papers is it really very fascinating lombard said i do n’t know i have n’t seen it oh really the owens are frightfully keen on it i suppose what are they like do tell me lombard thought awkward this am i supposed to have met them or not he said quickly there ’s a wasp crawling up your arm no keep quite still he made a convincing pounce there it ’s gone oh thank you there are a lot of wasps about this summer yes i suppose it ’s the heat who are we waiting for do you know i have n’t the least idea the loud drawn out scream of an approaching train was heard lombard said that will be the train now it was a tall soldierly old man who appeared at the exit from the platform his grey hair was clipped close and he had a neatly trimmed white moustache his porter staggering slightly under the weight of the solid leather suitcase indicated vera and lombard vera came forward in a competent manner she said i am mrs owen ’s secretary there is a car here waiting she added this is mr lombard the faded blue eyes shrewd in spite of their age sized up lombard for a moment a judgment showed in them had there been any one to read it good looking fellow something just a little wrong about him the three of them got into the waiting taxi they drove through the sleepy streets of little oakbridge and continued about a mile on the main plymouth road then they plunged into a maze of cross country lanes steep green and narrow general macarthur said do n’t know this part of devon at all my little place is in east devon just on the borderline of dorset vera said it really is lovely here the hills and the red earth and everything so green and luscious looking philip lombard said critically it ’s a bit shut in i like open country myself where you can see what ’s coming general macarthur said to him you ’ve seen a bit of the world i fancy lombard shrugged his shoulders disparagingly i ’ve knocked about here and there sir he thought to himself he ’ll ask me now if i was old enough to be in the war these old boys always do but general macarthur did not mention the war ii they came up over a steep hill and down a zigzag track to sticklehaven a mere cluster of cottages with a fishing boat or two drawn up on the beach illuminated by the setting sun they had their first glimpse of soldier island jutting up out of the sea to the south vera said\n",
            "------------------------------------------------------------\n"
          ]
        },
        {
          "output_type": "execute_result",
          "data": {
            "text/plain": [
              "'AgathaChristie has a similarity index of 0.2178988326848249'"
            ],
            "application/vnd.google.colaboratory.intrinsic+json": {
              "type": "string"
            }
          },
          "metadata": {},
          "execution_count": 14
        }
      ]
    },
    {
      "cell_type": "code",
      "source": [
        "obj.similarity(\"Murakami_test.txt\")"
      ],
      "metadata": {
        "id": "5j_duKEKlR7y",
        "colab": {
          "base_uri": "https://localhost:8080/",
          "height": 281
        },
        "outputId": "82bd3ab1-4497-4b67-e9a7-6ab66310423d"
      },
      "execution_count": 15,
      "outputs": [
        {
          "output_type": "stream",
          "name": "stderr",
          "text": [
            "Setting `pad_token_id` to `eos_token_id`:50256 for open-end generation.\n"
          ]
        },
        {
          "output_type": "stream",
          "name": "stdout",
          "text": [
            "Trained text: When the phone rang I was in the kitchen, boiling a potrul of spaghetti and whistling along with an FM broadcast of the overture to Rossini’s The Thieving Magpie, which has to be the perfect music for cooking pasta. I wanted to ignore the phone, not only because the spaghetti was nearly done, but because Claudio Abbado was bringing the London Symphony to its musical climax. Finally, though, I had to give in. It could have been somebody with news of a job opening. I lowered the flame, went to the living room, and picked up the receiver. “Ten minutes, please,” said a woman on the other end. I’m good at recognizing people’s voices, but this was not one I knew. “Excuse me? To whom did you wish to speak?” “To you, of course. Ten minutes, please. That’s all we need to understand each other.” Her voice was low and soft but otherwise nondescript. “Understand each other?” “Each other’s feelings I leaned over and peeked through the kitchen door. The spaghetti pot was steaming nicely, and Claudio Abbado was still conducting The Thieving Magpie. “Sorry, but you caught me in the middle of making spaghetti. Can I ask you to\n",
            "------------------------------------------------------------\n",
            "Generated text:   cooking pasta i wanted to ignore the phone not only because the spaghetti was nearly done but because claudio abbado was bringing the london symphony to its musical climax finally though i had to give in it could have been somebody with news of a job opening i lowered the flame went to the living room and picked up the receiver ten minutes please said a woman on the other end i ’m good at recognizing people ’s voices but this was not one i knew excuse me to whom did you wish to speak to you of course ten minutes please that ’s all we need to understand each other her voice was low and soft but otherwise nondescript understand each other each other ’s feelings i leaned over and peeked through the kitchen door the spaghetti pot was steaming nicely and claudio abbado was still conducting the thieving magpie sorry but you caught me in the middle of making spaghetti can i ask you to come in for a second of course ten minutes i ’m going out with claudio abbado in a couple of minutes so i ’m a bit late do come back i will you ca n’t leave the house for ten minutes she paused and i understood that she would like to speak to me you ca n’t not until fifteen minutes what not till then she took my hand do n’t worry she said i ’ll make sure i find you she gave a faint chuckle and disconnected aha i said at last she ’s going to hang up i was back in the kitchen boiling another pot and thinking well that ’s one way to find someone at a party which was true i supposed after this phone call and even before it i had come to know the voice of abbado and i knew my chances of finding the person who rang me were not great \n",
            "\n",
            " the party was a little late a very big party that was the way the new york symphony used to come and that ’s how they were going back a few years now the new york symphony was always so full of people that its performances would stretch well into the night if the audience were large enough they ’d hold the concert through the very early morning hours themselves but this particular night the new york symphony was just starting to show up it would just be the three musicians and a handful of dancers who would perform the most familiar works as they came in to dance they would set off in twos and threes to a cacophony of noise dancing for what felt like hours in the foyer of the concert hall the new york symphony it ’s a new american dance company i thought they might just be warming up not too much to get them going so i left the kitchen and went to the living room for a while then i decided to go to the other room downstairs and watch a couple more movies which i found on a small tv screen \n",
            "\n",
            " the new series of jurassic park was a wonderful way to pass an hour of television first there was a new episode and then the dinosaurs turned into people but that probably had less to do with the script or the actors than it did with the size of the screen i went on and watched them grow and then grow and then grow until they actually started to appear in the front of the screen just like real people i spent my after hours time studying the screen but i was also thinking about the new series of jurassic park which had just come in and was not yet over after all the whole point was that it was all about the real scientists i would be an actor \n",
            "\n",
            " when the show finished i turned off the tv and went back to the kitchen to see if anything was ready i just started to boil pasta again and then decided to take a shower i didn\n",
            "------------------------------------------------------------\n",
            "Actual text: call back later spaghetti what are you doing cooking spaghetti at ten thirty in the morning that ’s none of your business i said i decide what i eat and when i eat it true enough i ’ll call back she said her voice now flat and expressionless a little change in mood can do amazing things to the tone of a person ’s voice hold on a minute i said before she could hang up if this is some new sales gimmick you can forget it i ’m out of work i ’m not in the market for anything do n’t worry i know you know you know what that you ’re out of work i know about that so go cook your precious spaghetti who the hell- she cut the connection with no outlet for my feelings i stared at the phone in my hand until i remembered the spaghetti back in the kitchen i turned off the gas and poured the contents of the pot into a colander thanks to the phone call the spaghetti was a little softer than al dente but it had not been dealt a mortal blow i started eating and thinking understand each other understand each other ’s feelings in ten minutes what was she talking about maybe it was just a prank call or some new sales pitch in any case it had nothing to do with me after lunch i went back to my library novel on the living room sofa glancing every now and then at the telephone what were we supposed to understand about each other in ten minutes what can two people understand about each other in ten minutes come to think of it she seemed awfully sure about those ten minutes it was the first thing out of her mouth as if nine minutes would be too short or eleven minutes too long like cooking spaghetti al dente i could n’t read anymore i decided to iron shirts instead which is what i always do when i ’m upset it ’s an old habit i divide the job into twelve precise stages beginning with the collar outer surface and ending with the left hand cuff the order is always the same and i count off each stage to myself otherwise it wo n’t come out right i ironed three shirts checking them over for wrinkles and putting them on hangers once i had switched off the iron and put it away with the ironing board in the hall closet my mind felt a good deal clearer i was on my way to the kitchen for a glass of water when the phone rang again i hesitated for a second but decided to answer it if it was the same woman i ’d tell her i was ironing and hang up this time it was kumiko the wall clock said eleven thirty how are you she asked fine i said relieved to hear my wife ’s voice what are you doing just finished ironing what ’s wrong there was a note of tension in her voice she knew what it meant for me to be ironing nothing i was just ironing some shirts i sat down and shifted the receiver from my left hand to my right what ’s up can you write poetry she asked poetry poetry did she mean poetry i know the publisher of a story magazine for girls they ’re looking for somebody to pick and revise poems submitted by readers and they want the person to write a short poem every month for the frontispiece pay ’s not bad for an easy job of course it ’s part time but they might add some editorial work if the person- easy work i broke in hey wait a minute i ’m looking for something in law not poetry i thought you did some writing in high school yeah sure for the school newspaper which team won the soccer championship or how the physics teacher fell down the stairs and ended up in the hospital that kind of stuff not poetry i ca n’t write poetry sure but i ’m not talking about great poetry just something for high school girls it does n’t have to find a place in literary history you could do it with your eyes closed do n’t you see look i just ca n’t write poetry eyes open or closed i ’ve never done it and i ’m not going to start now all right said kumiko with a hint of regret but it ’s hard to find legal work i know that ’s why i ’ve got so many feelers out i should be hearing something this week if it ’s no go i ’ll think about doing something else well i suppose that ’s that by the way what ’s today what day of the week i thought a moment and said tuesday\n",
            "------------------------------------------------------------\n"
          ]
        },
        {
          "output_type": "execute_result",
          "data": {
            "text/plain": [
              "'Murakami has a similarity index of 0.2694610778443114'"
            ],
            "application/vnd.google.colaboratory.intrinsic+json": {
              "type": "string"
            }
          },
          "metadata": {},
          "execution_count": 15
        }
      ]
    },
    {
      "cell_type": "code",
      "source": [
        "obj.similarity(\"PeterSwanson_test.txt\")"
      ],
      "metadata": {
        "id": "hKw8wdZHQYmj",
        "colab": {
          "base_uri": "https://localhost:8080/",
          "height": 663
        },
        "outputId": "9a693d43-8df4-4141-8a3c-d8ef83d42283"
      },
      "execution_count": 16,
      "outputs": [
        {
          "output_type": "stream",
          "name": "stderr",
          "text": [
            "Setting `pad_token_id` to `eos_token_id`:50256 for open-end generation.\n"
          ]
        },
        {
          "output_type": "stream",
          "name": "stdout",
          "text": [
            "Trained text: T CHAPTER 1 he front door opened, and I heard the stamp of the FBI agent’s feet on the doormat. It had just begun to snow, and the air that rushed into the store was heavy and brimming with energy. The door shut behind the agent. She must have been just outside when she’d called because it had only been about five minutes since I’d agreed to meet with her. Except for me, the store was empty. I don’t know exactly why I’d opened it that day. A storm was forecast to drop over two feet of snow, beginning in the morning and continuing through until the following afternoon. Boston Public Schools had already announced they were closing early, and they’d canceled all classes for the following day. I’d called the two employees who were scheduled to come in—Emily for the morning shift and early afternoon, and Brandon for the afternoon and evening—and told them both to stay home. I logged on to the Old Devils Bookstore Twitter account and was about to send out a tweet saying that we were closed for the duration of the storm, but something stopped me. Maybe it was the thought of spending all\n",
            "------------------------------------------------------------\n",
            "Generated text: e door shut behind the agent she must have been just outside when she ’d called because it had only been about five minutes since i ’d agreed to meet with her except for me the store was empty i do n’t know exactly why i ’d opened it that day a storm was forecast to drop over two feet of snow beginning in the morning and continuing through until the following afternoon boston public schools had already announced they were closing early and they ’d canceled all classes for the following day i ’d called the two employees who were scheduled to come in emily for the morning shift and early afternoon and brandon for the afternoon and evening and told them both to stay home i logged on to the old devils bookstore twitter account and was about to send out a tweet saying that we were closed for the duration of the storm but something stopped me maybe it was the thought of spending all day on a park bench or perhaps it was the knowledge that after so much time away from my parents i was tired of waiting for them to come home i sent the tweet but i knew my parents were n’t around to see it so i did n’t bother to reply \n",
            "\n",
            " i knew this was only the beginning of the storm if that storm was powerful enough the power supply to our apartment building would be out the elevator would stop working and we ’d soon be freezing trying to figure out how to get back to our apartment my mother would always be there for me if i wanted her she had offered to come back with me to stay with us for a few weeks when i moved in with her but that was n’t an option she could n’t go back to work \n",
            "\n",
            " the snow started coming down harder as the afternoon turned into evening and i knew my parents were probably still out working long after i had moved out i also knew that by the time the evening classes that i ’d never missed were over there would n’t be enough left for us to stay in the apartment the store would only be open for a few hours i knew it was going to be hard to stay in a place that you just left five minutes before closing i knew there were a lot of other jobs out there in the boston area and with all the snow and ice that was still falling i did n’t know how long it would actually take to get the old house fixed up and into shape i had to put up with the fact that all the snow on the street made driving extremely dangerous \n",
            "\n",
            " and then i had one of my first real conversations that night \n",
            "\n",
            " they say that people are going to do all kinds of crazy things when they ’re feeling lonely and that ’s exactly what happened for me in that moment \n",
            "\n",
            " i ca n’t leave until my parents come back i said do you think they will \n",
            "\n",
            " no i do n’t brandon said \n",
            "\n",
            " what if there ’s a snowstorm and they come back and then they figure out you do n’t have time to come back i asked \n",
            "\n",
            " no i mean i think they will he said \n",
            "\n",
            " then do n’t leave i said \n",
            "\n",
            " my parents had gotten used to the fact that there was no way i was going to leave their apartment they were n’t crazy about the idea of me living with them but a little bit crazier than that was entirely possible no matter where i lived they were always available at all hours of the day and night \n",
            "\n",
            " even though we had started spending less and less time together there were still days when i used to stay up until five or six in the morning and when i was in bed at eight o’clock they always came through the door and stayed for as long as they could often as long as eight hours they never let the door be closed when they could n’t be there and wanted to be there \n",
            "\n",
            " i have to come home i said i have to come home \n",
            "\n",
            " no we ca n’t live here if it ’s like this my mother said i just ca n’t \n",
            "\n",
            " okay mom i said\n",
            "------------------------------------------------------------\n",
            "Actual text: day in my apartment alone and besides i lived less than half a mile from the store i decided to go in at the very least i ’d be able to spend some time with nero straighten up some shelves maybe even pack up some online orders a sky the color of granite was threatening snow as i unlocked the front doors on bury street in beacon hill old devils bookstore is not in a hightraffic area but we ’re a specialty bookstore mystery books used and new and most of our customers seek us out or simply order directly from our website on a typical thursday in february i would n’t be surprised if the total number of customers barely reached double digits unless of course we had an event planned still there was always work to do and there was nero the store cat who hated spending the day alone also i could n’t remember if i ’d fed him extra food the night before it turned out i probably had n’t because when i stepped through the front door he came racing along the hardwood floor to greet me he was a ginger cat of indeterminate age perfect for the store because of his willingness his eagerness really to put up with the affections of strangers i turned on the store lights fed nero then brewed myself a pot of coffee at eleven margaret lumm a regular entered what are you doing open she asked what are you doing out she held up two grocery bags from an upscale grocery store on charles street provisions she said in her patrician voice we talked about the latest louise penny novel she talked mostly i pretended i ’d read it these days i pretend i ’ve read many books i do read the reviews from the major trade publications of course and i go to a few blogs one of them is called the armchair spoiler and it includes reviews of recent titles that discuss endings i no longer have the stomach for contemporary mystery novels sometimes i reread a particular favorite from my childhood and i find the book blogs indispensable i suppose i could be honest tell people that i ’ve lost interest in mystery novels that i primarily read history these days poetry before i go to bed but i prefer to lie the few people i ’ve told the truth to always want to know why i ’ve given up reading crime and it ’s not something i can talk about i sent margaret lumm away with a used copy of ruth rendell ’s shake hands forever that she was 90 percent sure she ’d never read then i ate the lunch i ’d packed a chicken salad sandwich and was just about thinking of calling it a day when the phone rang old devils bookstore i answered is malcolm kershaw available a woman ’s voice speaking i said oh good this is special agent gwen mulvey of the fbi i ’d love a little bit of your time to ask you a few questions okay i said is now good sure i said thinking she wanted to talk on the phone but instead she told me she ’d be right over and disconnected the line i stood for a moment phone in hand imagining what an fbi agent named gwen would look like her voice on the phone had been raspy so i imagined her to be nearing retirement an imposing humorless woman in a tan raincoat a few minutes later agent mulvey pushed through the door looking very different from how i ’d imagined her she was in her thirties if that and wearing jeans that were tucked into forest green boots plus a puffy winter jacket and a white knit hat with a pom pom on it she stomped her boots on the welcome mat removed her hat and came across to the checkout counter i came around to meet her and she reached out a hand she had a firm handshake but her hand was clammy agent mulvey i asked yes hi snowflakes were melting on her green coat leaving behind dark spots she briefly shook her head the ends of her thin blond hair were wet i ’m surprised you ’re still open she said i ’m just about to close up actually oh she said she had a leather bag slung over one shoulder and she lifted the strap over her head then unzipped her jacket you have some time though i do and i ’m curious should we talk back in my office she turned back and glanced at the front door the tendons in her neck popped out against her white skin will you be able to hear if a customer comes in she said i do n’t think that ’ll happen but yes i ’ll be able to hear it ’s this way my office was more of a\n",
            "------------------------------------------------------------\n"
          ]
        },
        {
          "output_type": "execute_result",
          "data": {
            "text/plain": [
              "'PeterSwanson has a similarity index of 0.2300556586270872'"
            ],
            "application/vnd.google.colaboratory.intrinsic+json": {
              "type": "string"
            }
          },
          "metadata": {},
          "execution_count": 16
        }
      ]
    },
    {
      "cell_type": "code",
      "source": [
        ""
      ],
      "metadata": {
        "id": "BQ2bpo3vYCAA"
      },
      "execution_count": 16,
      "outputs": []
    }
  ],
  "metadata": {
    "colab": {
      "collapsed_sections": [],
      "name": "GPT-3 model.ipynb",
      "provenance": []
    },
    "kernelspec": {
      "display_name": "Python 3",
      "name": "python3"
    },
    "language_info": {
      "name": "python"
    }
  },
  "nbformat": 4,
  "nbformat_minor": 0
}
